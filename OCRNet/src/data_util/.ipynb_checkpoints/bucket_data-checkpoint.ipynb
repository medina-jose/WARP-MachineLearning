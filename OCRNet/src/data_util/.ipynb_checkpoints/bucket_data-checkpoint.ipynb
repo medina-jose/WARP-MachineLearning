{
 "cells": [
  {
   "cell_type": "code",
   "execution_count": 1,
   "metadata": {
    "collapsed": true
   },
   "outputs": [],
   "source": [
    "import tensorflow as tf\n",
    "from tensorflow.python import debug as tf_debug"
   ]
  },
  {
   "cell_type": "code",
   "execution_count": 2,
   "metadata": {},
   "outputs": [
    {
     "name": "stdout",
     "output_type": "stream",
     "text": [
      "TensorFlow version:  1.5.0\n"
     ]
    }
   ],
   "source": [
    "print(\"TensorFlow version: \", tf.__version__)"
   ]
  },
  {
   "cell_type": "code",
   "execution_count": 3,
   "metadata": {
    "collapsed": true
   },
   "outputs": [],
   "source": [
    "import os\n",
    "from os.path import join\n",
    "import json\n",
    "import random\n",
    "import itertools\n",
    "import re\n",
    "import datetime\n",
    "import numpy as np\n",
    "from scipy import ndimage\n",
    "import pylab\n",
    "import matplotlib.pyplot as plt\n",
    "import matplotlib.gridspec as gridspec\n",
    "import matplotlib.image as mpimg\n",
    "import cv2\n",
    "import glob"
   ]
  },
  {
   "cell_type": "code",
   "execution_count": 1,
   "metadata": {
    "collapsed": true
   },
   "outputs": [],
   "source": [
    "class BucketData(object):\n",
    "    def __init__(self):\n",
    "        self.data_list = []\n",
    "        self.label_list = []\n",
    "        self.label_list_plain = []\n",
    "        self.comment_list = []\n",
    "\n",
    "    def append(self, datum, label, label_plain, comment):\n",
    "        self.data_list.append(datum)\n",
    "        self.label_list.append(label)\n",
    "        self.label_list_plain.append(label_plain)\n",
    "        self.comment_list.append(comment)\n",
    "\n",
    "        return len(self.data_list)\n",
    "\n",
    "    def flush_out(self, bucket_specs, valid_target_length=float('inf'),\n",
    "                  go_shift=1):\n",
    "        # print self.max_width, self.max_label_len\n",
    "        res = {}\n",
    "\n",
    "        decoder_input_len = bucket_specs[0][1]\n",
    "\n",
    "        # ENCODER PART\n",
    "        res['data'] = np.array(self.data_list)\n",
    "        res['labels'] = self.label_list_plain\n",
    "        res['comments'] = self.comment_list\n",
    "\n",
    "        # DECODER PART\n",
    "        target_weights = []\n",
    "        for l_idx in range(len(self.label_list)):\n",
    "            label_len = len(self.label_list[l_idx])\n",
    "            if label_len <= decoder_input_len:\n",
    "                self.label_list[l_idx] = np.concatenate((\n",
    "                    self.label_list[l_idx],\n",
    "                    np.zeros(decoder_input_len - label_len, dtype=np.int32)))\n",
    "                one_mask_len = min(label_len - go_shift, valid_target_length)\n",
    "                target_weights.append(np.concatenate((\n",
    "                    np.ones(one_mask_len, dtype=np.float32),\n",
    "                    np.zeros(decoder_input_len - one_mask_len,\n",
    "                             dtype=np.float32))))\n",
    "            else:\n",
    "                raise NotImplementedError\n",
    "\n",
    "        res['decoder_inputs'] = [a.astype(np.int32) for a in\n",
    "                                 np.array(self.label_list).T]\n",
    "        res['target_weights'] = [a.astype(np.float32) for a in\n",
    "                                 np.array(target_weights).T]\n",
    "\n",
    "        assert len(res['decoder_inputs']) == len(res['target_weights'])\n",
    "\n",
    "        self.data_list, self.label_list, self.label_list_plain, self.comment_list = [], [], [], []\n",
    "\n",
    "        return res\n",
    "\n",
    "    def __len__(self):\n",
    "        return len(self.data_list)\n",
    "\n",
    "    def __iadd__(self, other):\n",
    "        self.data_list += other.data_list\n",
    "        self.label_list += other.label_list\n",
    "        self.label_list_plain += other.label_list_plain\n",
    "        self.comment_list += other.comment_list\n",
    "\n",
    "    def __add__(self, other):\n",
    "        res = BucketData()\n",
    "        res.data_list = self.data_list + other.data_list\n",
    "        res.label_list = self.label_list + other.label_list\n",
    "        res.label_list_plain = self.label_list_plain + other.label_list_plain\n",
    "        res.comment_list = self.comment_list + other.comment_list\n",
    "        return res"
   ]
  },
  {
   "cell_type": "code",
   "execution_count": null,
   "metadata": {
    "collapsed": true
   },
   "outputs": [],
   "source": []
  }
 ],
 "metadata": {
  "kernelspec": {
   "display_name": "Python 3",
   "language": "python",
   "name": "python3"
  },
  "language_info": {
   "codemirror_mode": {
    "name": "ipython",
    "version": 3
   },
   "file_extension": ".py",
   "mimetype": "text/x-python",
   "name": "python",
   "nbconvert_exporter": "python",
   "pygments_lexer": "ipython3",
   "version": "3.5.4"
  }
 },
 "nbformat": 4,
 "nbformat_minor": 2
}
