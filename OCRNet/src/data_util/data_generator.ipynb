{
 "cells": [
  {
   "cell_type": "code",
   "execution_count": 4,
   "metadata": {
    "collapsed": true
   },
   "outputs": [],
   "source": [
    "import tensorflow as tf\n",
    "from tensorflow.python import debug as tf_debug"
   ]
  },
  {
   "cell_type": "code",
   "execution_count": 5,
   "metadata": {},
   "outputs": [
    {
     "name": "stdout",
     "output_type": "stream",
     "text": [
      "TensorFlow version:  1.5.0\n"
     ]
    }
   ],
   "source": [
    "print(\"TensorFlow version: \", tf.__version__)"
   ]
  },
  {
   "cell_type": "code",
   "execution_count": 7,
   "metadata": {},
   "outputs": [
    {
     "ename": "ImportError",
     "evalue": "No module named 'BucketData'",
     "output_type": "error",
     "traceback": [
      "\u001b[1;31m---------------------------------------------------------------------------\u001b[0m",
      "\u001b[1;31mImportError\u001b[0m                               Traceback (most recent call last)",
      "\u001b[1;32m<ipython-input-7-08cff7e317fa>\u001b[0m in \u001b[0;36m<module>\u001b[1;34m()\u001b[0m\n\u001b[0;32m      1\u001b[0m \u001b[1;32mimport\u001b[0m \u001b[0msys\u001b[0m\u001b[1;33m\u001b[0m\u001b[0m\n\u001b[1;32m----> 2\u001b[1;33m \u001b[1;32mimport\u001b[0m \u001b[0mBucketData\u001b[0m\u001b[1;33m\u001b[0m\u001b[0m\n\u001b[0m",
      "\u001b[1;31mImportError\u001b[0m: No module named 'BucketData'"
     ]
    }
   ],
   "source": [
    "import sys\n",
    "from .bucket_data import BucketData"
   ]
  },
  {
   "cell_type": "code",
   "execution_count": null,
   "metadata": {
    "collapsed": true
   },
   "outputs": [],
   "source": [
    "class DataGen(object):\n",
    "    GO_ID = 1\n",
    "    EOS_ID = 2\n",
    "    IMAGE_HEIGHT = 32\n",
    "    CHARMAP = ['', '', ''] + list('0123456789ABCDEFGHIJKLMNOPQRSTUVWXYZ')\n",
    "\n",
    "    @staticmethod\n",
    "    def setFullAsciiCharmap():\n",
    "        DataGen.CHARMAP = ['', '', ''] + [chr(i) for i in range(32, 127)]\n",
    "\n",
    "    def __init__(self,\n",
    "                 annotation_fn,\n",
    "                 buckets,\n",
    "                 epochs=1000,\n",
    "                 max_width=None):\n",
    "        \"\"\"\n",
    "        :param annotation_fn:\n",
    "        :param lexicon_fn:\n",
    "        :param valid_target_len:\n",
    "        :param img_width_range: only needed for training set\n",
    "        :param word_len:\n",
    "        :param epochs:\n",
    "        :return:\n",
    "        \"\"\"\n",
    "        self.epochs = epochs\n",
    "        self.max_width = max_width\n",
    "\n",
    "        self.bucket_specs = buckets\n",
    "        self.bucket_data = BucketData()\n",
    "\n",
    "        dataset = tf.contrib.data.TFRecordDataset([annotation_fn])\n",
    "        dataset = dataset.map(self._parse_record)\n",
    "        dataset = dataset.shuffle(buffer_size=10000)\n",
    "        self.dataset = dataset.repeat(self.epochs)\n",
    "\n",
    "    def clear(self):\n",
    "        self.bucket_data = BucketData()\n",
    "\n",
    "    def gen(self, batch_size):\n",
    "\n",
    "        dataset = self.dataset.batch(batch_size)\n",
    "        iterator = dataset.make_one_shot_iterator()\n",
    "\n",
    "        images, labels, comments = iterator.get_next()\n",
    "        with tf.Session(config=tf.ConfigProto(allow_soft_placement=True)) as sess:\n",
    "\n",
    "            while True:\n",
    "                try:\n",
    "                    raw_images, raw_labels, raw_comments = sess.run([images, labels, comments])\n",
    "                    for img, lex, comment in zip(raw_images, raw_labels, raw_comments):\n",
    "\n",
    "                        if self.max_width and (Image.open(IO(img)).size[0] <= self.max_width):\n",
    "                            word = self.convert_lex(lex)\n",
    "\n",
    "                            bucket_size = self.bucket_data.append(img, word, lex, comment)\n",
    "                            if bucket_size >= batch_size:\n",
    "                                bucket = self.bucket_data.flush_out(\n",
    "                                    self.bucket_specs,\n",
    "                                    go_shift=1)\n",
    "                                yield bucket\n",
    "\n",
    "                except tf.errors.OutOfRangeError:\n",
    "                    break\n",
    "\n",
    "        self.clear()\n",
    "\n",
    "    def convert_lex(self, lex):\n",
    "        if sys.version_info >= (3,):\n",
    "            lex = lex.decode('iso-8859-1')\n",
    "\n",
    "        assert len(lex) < self.bucket_specs[-1][1]\n",
    "\n",
    "        return np.array(\n",
    "            [self.GO_ID] + [self.CHARMAP.index(char) for char in lex] + [self.EOS_ID],\n",
    "            dtype=np.int32)\n",
    "\n",
    "    @staticmethod\n",
    "    def _parse_record(example_proto):\n",
    "        features = tf.parse_single_example(\n",
    "            example_proto,\n",
    "            features={\n",
    "                'image': tf.FixedLenFeature([], tf.string),\n",
    "                'label': tf.FixedLenFeature([], tf.string),\n",
    "                'comment': tf.FixedLenFeature([], tf.string, default_value=''),\n",
    "            })\n",
    "        return features['image'], features['label'], features['comment']"
   ]
  }
 ],
 "metadata": {
  "kernelspec": {
   "display_name": "Python 3",
   "language": "python",
   "name": "python3"
  },
  "language_info": {
   "codemirror_mode": {
    "name": "ipython",
    "version": 3
   },
   "file_extension": ".py",
   "mimetype": "text/x-python",
   "name": "python",
   "nbconvert_exporter": "python",
   "pygments_lexer": "ipython3",
   "version": "3.5.4"
  }
 },
 "nbformat": 4,
 "nbformat_minor": 2
}
